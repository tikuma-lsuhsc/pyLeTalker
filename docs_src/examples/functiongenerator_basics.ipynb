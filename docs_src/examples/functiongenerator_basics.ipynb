{
 "cells": [
  {
   "cell_type": "code",
   "execution_count": null,
   "metadata": {},
   "outputs": [],
   "source": [
    "from matplotlib import pyplot as plt\n",
    "import numpy as np\n",
    "import letalker as lt"
   ]
  },
  {
   "cell_type": "markdown",
   "metadata": {},
   "source": [
    "# `letalker.function_generators`\n",
    "\n",
    "Function and noise generators are the foundation to numerical voice simulation to generate time samples of various input signals and parameters. Function generators allow you to construct time-varying model parameters while noise generators are essential to add turbulent or ambient noise to the voice signals.\n",
    "\n",
    "All classes in this module are a subclass of the `abc.SampleGenerator` abstract class. There are 3 abstract subclasses to further categorize:\n",
    "\n",
    "| class                           | description                                                                                                                                                                       |\n",
    "|---------------------------------|-----------------------------------------------------------------------------------------------------------------------------------------------------------------------------------|\n",
    "| `abc.FunctionGenerator`         | abstract class to define `__call__()`, `derivative()`, and `antiderivative()` generation methods                                                                                  |\n",
    "| `abc.AnalyticFunctionGenerator` | subclass of `FunctionGenerator`, requiring `fo` argument to construct. and accepts `analytic` `bool` keyword argument to the generation methods to generate the analytic signals. |\n",
    "| `abc.NoiseGenerator`            | abstract class for random noise generation via `__call__()`                                                                                                                       |\n",
    "\n",
    "- Concrete classes of `abc.FunctionGenerator`:\n",
    "\n",
    "| class                 | description                                                       |\n",
    "|-----------------------|-------------------------------------------------------------------|\n",
    "| `Constant`            | constant (for adding tapering effects; otherwise use `float`)     |\n",
    "| `StepGenerator`       | piece-wise constants, stepping from one constant value to another |\n",
    "| `LineGenerator`       | linear function generator                                         |\n",
    "| `Interpolator`        | B-Spline interpolator                                             |\n",
    "| `ClampedInterpolator` | B-Spline interpolator, extrapolating by holding its endpoints     |\n",
    "\n",
    "- Concrete classes of `abc.AnalyticFunctionGenerator`:\n",
    "\n",
    "| class                    | description                                                                    |\n",
    "|--------------------------|--------------------------------------------------------------------------------|\n",
    "| `PeriodicInterpolator`   | B-Spline interpolator, extrapolating by endlessly repeating the control points |\n",
    "| `SineGenerator`          | Pure sinusoid generator                                                        |\n",
    "| `FlutterGenerator`       | Sum of sinusoids to generate quasi-random drift                                |\n",
    "| `ModulatedSineGenerator` | Sinusoid generator with amplitude and frequency modulation                     |\n",
    "| `RosenbergGenerator`     | Glottal flow pulse train generator per (Rosenberg, 1971)                       |\n",
    "\n",
    "- Concrete classes of `abc.NoiseGenerator`:\n",
    "\n",
    "| class                   | description             |\n",
    "|-------------------------|-------------------------|\n",
    "| `WhiteNoiseGenerator`   | White noise generator   |\n",
    "| `ColoredNoiseGenerator` | Colored noise generator |\n"
   ]
  },
  {
   "cell_type": "markdown",
   "metadata": {},
   "source": [
    "## Common attributes of `abc.SampleGenerator` subclasses\n"
   ]
  },
  {
   "cell_type": "markdown",
   "metadata": {},
   "source": [
    "```python\n",
    "# common properties\n",
    "function_generator.shape # shape of an individual time sample\n",
    "function_generator.ndim # number of dimensions of an individual time sample\n",
    "function_generator.fs # sampling rate in samples/second\n",
    "\n",
    "# common method\n",
    "t = function_generator.ts(nb_samples=1000, n0=-500)\n",
    "# generates time vector `t` which is 1000 samples long, starting from the index -500.\n",
    "# With the default fs = 44100: t[0] = -500/44100, t[1] = -499/44100, ...\n",
    "# If `function_generator.ndim>1`, `t` is an `(ndim+1)`-dimensional array with the 0-th\n",
    "# dimension as the time dimension.\n",
    "```\n"
   ]
  },
  {
   "cell_type": "code",
   "execution_count": null,
   "metadata": {},
   "outputs": [],
   "source": [
    "n = int(lt.fs)  # 1 second demos\n",
    "t = lt.ts(lt.fs) # time vector"
   ]
  },
  {
   "cell_type": "markdown",
   "metadata": {},
   "source": [
    "## `Constant`\n",
    "\n",
    "`Constant` class simply holds the specified value all the time, unless the `transition_time` is set.\n"
   ]
  },
  {
   "cell_type": "code",
   "execution_count": null,
   "metadata": {},
   "outputs": [],
   "source": [
    "gen0 = lt.Constant(0.98)\n",
    "gen1 = lt.Constant(0.45)\n",
    "\n",
    "fig, axes = plt.subplots(2, 1, sharex=True, sharey=True)\n",
    "axes[0].plot(t, gen0(n, force_time_axis='tile_data'))\n",
    "axes[0].set_title(\"Constant(0.98)\")\n",
    "axes[1].plot(t, gen1(n, force_time_axis='tile_data'))\n",
    "axes[1].set_title(\"Constant(0.45)\")\n",
    "axes[1].set_xlabel(\"time (s)\")\n",
    "axes[1].set_ylim((0, 1))"
   ]
  },
  {
   "cell_type": "markdown",
   "metadata": {},
   "source": [
    "NOTE: For faster simulation, a `Constant` object without any transition effects (i.e., truly holding a value at all time like shown above), by default evaluates only one value (e.g., `gen0(n)` would return `0.98`).\n",
    "Setting the `force_time_axis` keyword argument to `True` forces the object to return a NumPy array of repeated values (useful for plotting).\n"
   ]
  },
  {
   "cell_type": "code",
   "execution_count": null,
   "metadata": {},
   "outputs": [],
   "source": [
    "from letalker.constants import PL\n",
    "\n",
    "gen = lt.Constant(PL, transition_time=0.001)\n",
    "# the default transition is a 2-ms raised-cosine transition\n",
    "\n",
    "plt.plot(t, gen(n))\n",
    "plt.xlabel(\"time (s)\")\n",
    "plt.ylabel(\"$P_L$\")"
   ]
  },
  {
   "cell_type": "markdown",
   "metadata": {},
   "source": [
    "## `StepGenerator` - hold specific values in a sequential order\n",
    "\n",
    "The `transition_time` of `Constant` class only lets you switch the value between the specified value and 0. The `StepGenerator` class generalizes this behavior and let you specify multiple values to hold. The transitions are by default raised-cosines over 2-ms long.\n"
   ]
  },
  {
   "cell_type": "code",
   "execution_count": null,
   "metadata": {},
   "outputs": [],
   "source": [
    "gen = lt.StepGenerator(transition_times=[0.25, 0.5, 0.75], levels=[0, 1, 4, 3])\n",
    "# note levels has one more item than transition_times\n",
    "plt.plot(t, gen(lt.fs))\n",
    "plt.xlabel(\"time (s)\")\n",
    "plt.grid()"
   ]
  },
  {
   "cell_type": "markdown",
   "metadata": {},
   "source": [
    "Using this class, we can create a vocal tract area profile which traverses through multiple vowels...\n"
   ]
  },
  {
   "cell_type": "code",
   "execution_count": null,
   "metadata": {},
   "outputs": [],
   "source": [
    "from letalker.constants import (\n",
    "    vocaltract_areas as areas,\n",
    "    vocaltract_names as names,\n",
    "    vocaltract_resolution,\n",
    ")\n",
    "\n",
    "names = [vowel for vowel in names[:10]]\n",
    "areas = np.stack([areas[vowel] for vowel in names], 0)\n",
    "transition_times = np.arange(1, len(names)) * 0.1\n",
    "\n",
    "vtarea_fun = lt.StepGenerator(transition_times, areas, transition_time_constant=0.02)\n",
    "print(vtarea_fun.fs)\n",
    "\n",
    "area = vtarea_fun(n)\n",
    "print(area.shape)\n",
    "plt.imshow(\n",
    "    area.T,\n",
    "    extent=[0, 1.0, -0.5 * vocaltract_resolution, 44.5 * vocaltract_resolution],\n",
    "    origin=\"lower\",\n",
    "    aspect=\"auto\",\n",
    ")\n",
    "for i, name in enumerate(names):\n",
    "    ti = i * 0.1 + 0.05\n",
    "    plt.annotate(\n",
    "        name, (ti, 0.01), xycoords=(\"data\", \"axes fraction\"), c=\"w\", ha=\"center\"\n",
    "    )\n",
    "plt.xlabel(\"time (s)\")\n",
    "plt.ylabel(\"distance from glottis (cm)\")\n",
    "plt.colorbar()"
   ]
  },
  {
   "cell_type": "markdown",
   "metadata": {},
   "source": [
    "## `LineGenerator`\n",
    "\n",
    "`LineGenerator` creates a steady transition from one level to another. Outside of the two end points may be held to their levels or continue the linear trend indefinitely.\n"
   ]
  },
  {
   "cell_type": "code",
   "execution_count": null,
   "metadata": {},
   "outputs": [],
   "source": [
    "tp = (0.2, 0.8)\n",
    "xp = (0.98, 0.24)\n",
    "gen0 = lt.LineGenerator(tp, xp)\n",
    "gen1 = lt.LineGenerator(tp, xp, outside_values=\"extend\")\n",
    "\n",
    "fig, axes = plt.subplots(2, 1, sharex=True, sharey=True)\n",
    "axes[0].plot(t, gen0(n))\n",
    "axes[0].plot(tp, xp, \"o\")\n",
    "axes[0].set_title('LineGenerator: outside_values=\"hold\" (default)')\n",
    "axes[0].grid()\n",
    "axes[1].plot(t, gen1(n))\n",
    "axes[1].plot(tp, xp, \"o\")\n",
    "axes[1].set_title('LineGenerator: outside_values=\"extend\" (default)')\n",
    "axes[1].set_xlabel(\"time (s)\")\n",
    "axes[1].grid()"
   ]
  },
  {
   "cell_type": "markdown",
   "metadata": {},
   "source": [
    "## Interpolators: `Interpolator`, `ClampedInterpolator`, & `PeriodicInterpolator`\n",
    "\n",
    "These three `Interpolator` function generator classes perhaps are the most critical to construct time-varying parameters for speech-like voice samples. These generators support multidimensional functions (e.g., vocal tract cross-sectional areas). By default, this class uses B-splines for interpolation, but other polynomial based interpolators are also supported.\n"
   ]
  },
  {
   "cell_type": "code",
   "execution_count": null,
   "metadata": {},
   "outputs": [],
   "source": [
    "tp = [0.1, 0.35, 0.64, 0.87]\n",
    "xp = [0, 1, 4, 3]\n",
    "gen1 = lt.Interpolator(tp, xp, degree=1)\n",
    "gen2 = lt.Interpolator(tp, xp, degree=2)\n",
    "gen3 = lt.Interpolator(tp, xp, degree=3)\n",
    "\n",
    "plt.plot(t, gen1(n), label=\"degree=1\")\n",
    "plt.plot(t, gen2(n), label=\"degree=2\")\n",
    "plt.plot(t, gen3(n), label=\"degree=3 (default)\")\n",
    "plt.plot(tp, xp, \"o\", label=\"control points\")\n",
    "plt.xlabel(\"time (s)\")\n",
    "plt.legend()"
   ]
  },
  {
   "cell_type": "markdown",
   "metadata": {},
   "source": [
    "Example of multi-dimensional interpolator\n"
   ]
  },
  {
   "cell_type": "code",
   "execution_count": null,
   "metadata": {},
   "outputs": [],
   "source": [
    "tp = [0.1, 0.35, 0.64, 0.87]\n",
    "xp = [[0, 6], [1, 2], [4, 4], [3, 1]]\n",
    "gen = lt.Interpolator(tp, xp)\n",
    "\n",
    "plt.plot(t, gen(n))\n",
    "plt.plot(tp, xp, \"o\")\n",
    "plt.xlabel(\"time (s)\")"
   ]
  },
  {
   "cell_type": "markdown",
   "metadata": {},
   "source": [
    "The two sub-flavors of `Interpolator` classes `ClampedInterpolator` and `PeriodicInterpolator`. Here is an example of how these three interpolator classes behave with the same set of control points.\n"
   ]
  },
  {
   "cell_type": "code",
   "execution_count": null,
   "metadata": {},
   "outputs": [],
   "source": [
    "tp = [0, 0.15, 0.24, 0.37, 0.4]\n",
    "xp = [0, 1, 4, 3, 0]\n",
    "\n",
    "gen1 = lt.Interpolator(tp, xp)\n",
    "gen2 = lt.ClampedInterpolator(tp, xp)\n",
    "gen3 = lt.PeriodicInterpolator(tp, xp)\n",
    "\n",
    "n0 = round(-0.1 * lt.fs)\n",
    "t1 = lt.ts(n, n0)\n",
    "\n",
    "plt.plot(t1, gen1(n, n0), label=\"Interpolator\")\n",
    "plt.plot(t1, gen2(n, n0), label=\"ClampedInterpolator\")\n",
    "plt.plot(t1, gen3(n, n0), label=\"PeriodicInterpolator\")\n",
    "plt.plot(tp, xp, \"o\", label=\"control points\")\n",
    "plt.xlabel(\"time (s)\")\n",
    "plt.ylim(-10, 10)\n",
    "plt.legend()"
   ]
  },
  {
   "cell_type": "markdown",
   "metadata": {},
   "source": [
    "Note `PeriodicInterpolator` is also a subclass of `AnalyticFunctionGenerator` but its analytic signal generation is approximate, relying on `scipy.signal.hilbert()`.\n"
   ]
  },
  {
   "cell_type": "markdown",
   "metadata": {},
   "source": [
    "## `FlutterGenerator` - slow quasi-random drift\n",
    "\n",
    "Flutter is an $f_o$ effect introduced by Klatt and Klatt (1990) to simulate jitter in voice. This technique (a sum of slow unrelated sinusoids to produce drift) is also useful to perturb any synthesis parameter. The original formulation is an equal sum of 3 sinusoids with carefully picked frequencies, multiplied by a common gain (FL/100*fo/100). In pyLeTalker package, `FlutterGenerator` class is a generalized version, in which the number of sinusoids and frequencies can be modified, and the frequencies can be selected randomly."
   ]
  },
  {
   "cell_type": "code",
   "execution_count": null,
   "metadata": {},
   "outputs": [],
   "source": [
    "gen1 = lt.FlutterGenerator(0.1, 4, 3)  # default bias = 0.0\n",
    "plt.plot(t, gen1(lt.fs))"
   ]
  },
  {
   "cell_type": "markdown",
   "metadata": {},
   "source": [
    "## `SineGenerator`\n",
    "\n",
    "This class is the key to define the kinematic vocal folds' motion.\n"
   ]
  },
  {
   "cell_type": "code",
   "execution_count": null,
   "metadata": {},
   "outputs": [],
   "source": [
    "gen = lt.SineGenerator(fo=10, A=1.2, phi0=np.pi / 2)\n",
    "plt.plot(t, gen(n))\n",
    "plt.xlabel(\"time (s)\")"
   ]
  },
  {
   "cell_type": "markdown",
   "metadata": {},
   "source": [
    "Any function generator could be used for `A` parameter:\n"
   ]
  },
  {
   "cell_type": "code",
   "execution_count": null,
   "metadata": {},
   "outputs": [],
   "source": [
    "# time-varyinng amplitude\n",
    "Atv = lt.LineGenerator((0, 1), (0.8, 1.2))\n",
    "gen = lt.SineGenerator(fo=10, A=Atv)\n",
    "plt.plot(t, gen(n))\n",
    "plt.xlabel(\"time (s)\")"
   ]
  },
  {
   "cell_type": "markdown",
   "metadata": {},
   "source": [
    "... and `fo` parameter. The following example shows the spectrograms of the generated time-varying sinusoid overlayed with the time-varying fo parameter (in red).\n"
   ]
  },
  {
   "cell_type": "code",
   "execution_count": null,
   "metadata": {},
   "outputs": [],
   "source": [
    "fo_objs = {\n",
    "    \"ConstantPitch\": lt.Constant(100),\n",
    "    \"LinearPitch\": lt.LineGenerator([0, 1], [50, 150]),\n",
    "    \"InterpolatedPitch\": lt.Interpolator(\n",
    "        [0, 0.3, 0.6, 0.9, 1.0], [100, 90.4, 154.2, 200.6, 250]\n",
    "    ),\n",
    "    \"FlutteredPitch\": lt.FlutterGenerator(100 / 50 * 100 / 100 * 3, bias=100),\n",
    "    \"SinusoidalPitch\": lt.SineGenerator(1, 50, bias=100),\n",
    "}\n",
    "\n",
    "\n",
    "from scipy.signal import ShortTimeFFT, get_window\n",
    "from scipy.fft import next_fast_len\n",
    "from scipy.signal.windows import gaussian\n",
    "\n",
    "g_std = 8  # standard deviation for Gaussian window in samples\n",
    "\n",
    "N = lt.fs // 10\n",
    "w = gaussian(N, std=g_std, sym=True)  # symmetric Gaussian window\n",
    "w = get_window(\"hann\", N)\n",
    "SFT = ShortTimeFFT(w, hop=round(N * 0.01), fs=lt.fs, mfft=next_fast_len(N), scale_to=\"psd\")\n",
    "\n",
    "\n",
    "fig, axes = plt.subplots(len(fo_objs), 1, sharex=True, sharey=True, figsize=[12, 8])\n",
    "for (name, fo), ax in zip(fo_objs.items(), axes):\n",
    "    gen = lt.SineGenerator(fo=fo)\n",
    "    t = fo.ts(n)\n",
    "    fo_vals = fo(n, force_time_axis='tile_data')\n",
    "    Sx = SFT.stft(gen(n))  # perform the STFT\n",
    "    im1 = ax.imshow(\n",
    "        abs(Sx), origin=\"lower\", aspect=\"auto\", extent=SFT.extent(n), cmap=\"Blues\"\n",
    "    )\n",
    "    ax.plot(t, fo_vals, \"y\")\n",
    "    ax.set_title(name)\n",
    "    ax.set_ylabel(\"(Hz)\")\n",
    "axes[0].set_ylim([0, 250])\n",
    "axes[0].set_xlim([0, t[-1]])\n",
    "axes[-1].set_xlabel(\"time (s)\")\n",
    "fig.tight_layout()"
   ]
  },
  {
   "cell_type": "code",
   "execution_count": null,
   "metadata": {},
   "outputs": [],
   "source": [
    "# gen = lt.SineGenerator(fo=[10,11], A=1.2, phi0=np.pi / 2)\n",
    "gen = lt.SineGenerator(fo=[10,10], A=1.2, phi0='random')\n",
    "plt.plot(t, gen(n))\n",
    "plt.xlabel(\"time (s)\")"
   ]
  },
  {
   "cell_type": "markdown",
   "metadata": {},
   "source": [
    "## `ModulatedSineGenerator`\n",
    "\n",
    "To simulate amplitude and frequency modulated vocal fold vibration using the kinematic model, `ModulatedSineGenerator` could be used to generate the reference motion.\n"
   ]
  },
  {
   "cell_type": "code",
   "execution_count": null,
   "metadata": {},
   "outputs": [],
   "source": [
    "fo = 100\n",
    "modulation_frequency = 0.5  # relative to fo\n",
    "am_extent = 0.1  # amount of amplitude modulation\n",
    "fm_extent = 0.1  # amount of frequency modulation\n",
    "gen = lt.ModulatedSineGenerator(fo, modulation_frequency, am_extent, fm_extent)\n",
    "x = gen(n)\n",
    "\n",
    "fig, axes = plt.subplots(1, 2, figsize=[12, 4])\n",
    "axes[0].plot(t, x)\n",
    "axes[0].set_xlabel(\"time (s)\")\n",
    "axes[0].set_xlim([0, 0.1])\n",
    "axes[1].magnitude_spectrum(x, Fs=gen.fs, scale=\"dB\", window=np.hamming(len(t)))\n",
    "axes[1].set_xlim([0, min(1000, lt.fs / 2)])"
   ]
  },
  {
   "cell_type": "markdown",
   "metadata": {},
   "source": [
    "## `WhiteNoiseGenerator` & `ColoredNoiseGenerator`\n",
    "\n",
    "To simulate turbulent/aspiration/ambient noise, these generators produce random noise samples with a specified power level.\n"
   ]
  },
  {
   "cell_type": "code",
   "execution_count": null,
   "metadata": {},
   "outputs": [],
   "source": [
    "from scipy.signal import welch\n",
    "\n",
    "lt.core.set_sampling_rate(10000)\n",
    "\n",
    "pi = np.pi\n",
    "\n",
    "b = [1.25]\n",
    "a = [1, -0.75]\n",
    "\n",
    "psd_level=0.1\n",
    "\n",
    "gen0 = lt.WhiteNoiseGenerator(0.1)\n",
    "# gen1 = ColoredNoiseGenerator(\n",
    "#     LeTalkerAspirationNoise.cb, LeTalkerAspirationNoise.ca, psd_level=psd_level\n",
    "# )\n",
    "gen1 = lt.ColoredNoiseGenerator(2, (300, 3000), \"bandpass\", psd_level=psd_level)\n",
    "fs = n = gen0.fs\n",
    "t = gen0.ts(n)\n",
    "x = gen0(n)\n",
    "y = gen1(n)\n",
    "print(np.var(x))\n",
    "\n",
    "n = fs // 100\n",
    "f, Pxx = welch(\n",
    "    x, fs, \"hann\", n, n // 2, nfft=1024 * 16, scaling=\"density\", detrend=False\n",
    ")\n",
    "f, Pyy = welch(\n",
    "    y, fs, \"hann\", n, n // 2, nfft=1024 * 16, scaling=\"density\", detrend=False\n",
    ")\n",
    "\n",
    "fig, axes = plt.subplots(1, 2, figsize=[12, 4])\n",
    "\n",
    "axes[0].plot(t, x)\n",
    "axes[0].plot(t, y)\n",
    "axes[0].set_xlabel(\"time (s)\")\n",
    "axes[0].set_xlim([0, 0.1])\n",
    "axes[1].plot(f, Pxx * fs / 2, label='White')\n",
    "axes[1].plot(f, Pyy * fs / 2, label='colored')\n",
    "axes[1].axhline(psd_level,ls='--',c='k',label='psd_level')\n",
    "axes[1].set_xlim([0, min(fs / 2, 10000)])\n",
    "axes[1].set_xlabel(\"frequency (Hz)\")\n",
    "axes[1].legend();"
   ]
  }
 ],
 "metadata": {
  "kernelspec": {
   "display_name": ".venv",
   "language": "python",
   "name": "python3"
  },
  "language_info": {
   "codemirror_mode": {
    "name": "ipython",
    "version": 3
   },
   "file_extension": ".py",
   "mimetype": "text/x-python",
   "name": "python",
   "nbconvert_exporter": "python",
   "pygments_lexer": "ipython3",
   "version": "3.11.7"
  }
 },
 "nbformat": 4,
 "nbformat_minor": 2
}
