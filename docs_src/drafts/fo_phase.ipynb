{
 "cells": [
  {
   "cell_type": "code",
   "execution_count": 1,
   "metadata": {},
   "outputs": [],
   "source": [
    "from sympy import *"
   ]
  },
  {
   "cell_type": "markdown",
   "metadata": {},
   "source": [
    "# (Nested) Multiplicative effects on frequency of a sinusoid\n",
    "\n",
    "Let the base sinusoid be\n",
    "$$\n",
    "x(t) = \\sin \\phi(t)\n",
    "$$\n",
    "and its (instantaneous) frequency $\\omega(t) = \\dot{\\phi}(t)$ may be subject to multiple multiplicative effects (e.g., onsets and offsets):\n",
    "$$\n",
    "\\omega(t) = 2\\pi f(t) \\prod_i g_i(t),\n",
    "$$\n",
    "where $f(t)$ is the \"base\" (or steady-state) behavior and $g_i(t)$'s are the augumentors. For example,\n",
    "\n",
    "* Raised Cosine, \n",
    "$g(t) = \\begin{cases}\n",
    "0, &t<0, \\\\\n",
    "1 - \\cos \\nu t, & 0 \\gt t < T, \\\\ \n",
    "1, & t\\gt T\\end{cases}$\n",
    "* Exponential raise/decay: \n",
    "$g(t) = \\begin{cases}\n",
    "0, &t<0,\\\\\n",
    "1 - e^{-\\alpha t}, &t \\gt t\n",
    "\\end{cases}$\n",
    "\n"
   ]
  },
  {
   "cell_type": "code",
   "execution_count": 2,
   "metadata": {},
   "outputs": [
    {
     "data": {
      "text/latex": [
       "$\\displaystyle f_{o} t + \\frac{f_{o} e^{- a t}}{a}$"
      ],
      "text/plain": [
       "f_o*t + f_o*exp(-a*t)/a"
      ]
     },
     "execution_count": 2,
     "metadata": {},
     "output_type": "execute_result"
    }
   ],
   "source": [
    "t = Symbol(\"t\", real=True)\n",
    "fo = Symbol(\"f_o\", real=True, positive=True)\n",
    "v = Symbol(\"v\", real=True, positive=True)\n",
    "a = Symbol(\"a\", real=True, positive=True)\n",
    "# f = Function(\"f\")(t)\n",
    "f = fo\n",
    "# g = 1 - cos(v * t)\n",
    "g = 1 - exp(-a * t)\n",
    "simplify(integrate(f * g, t))\n",
    "# simplify(integrate(g, t))"
   ]
  },
  {
   "cell_type": "code",
   "execution_count": 3,
   "metadata": {},
   "outputs": [
    {
     "name": "stdout",
     "output_type": "stream",
     "text": [
      "1 - exp(-t/a)\n",
      "a*exp(-t/a) + t\n",
      "-a**2*exp(-t/a) + t**2/2\n"
     ]
    }
   ],
   "source": [
    "# exp_decay stepping function\n",
    "a = Symbol('a',real=True)\n",
    "s = 1 - exp(-t / a)\n",
    "t0 = solveset(Eq(s, 0.5), t, domain=S.Reals).args[0]\n",
    "\n",
    "# s = 1 - exp(-(t-t0) / a)\n",
    "# ds = diff(s, t)\n",
    "# C = log(0.5)\n",
    "# print(\"t0 offset\", t0)\n",
    "# print(ds)\n",
    "# print(ds.subs(t, C * a))\n",
    "\n",
    "print(s)\n",
    "print(s.integrate(t))\n",
    "print(s.integrate(t).integrate(t))\n",
    "# print('default a', solveset(Eq(diff(1 - exp(-a*t)), 0), t, domain=S.Reals))"
   ]
  },
  {
   "cell_type": "code",
   "execution_count": 4,
   "metadata": {},
   "outputs": [
    {
     "name": "stdout",
     "output_type": "stream",
     "text": [
      "1 - exp(t/a)\n",
      "-a*exp(t/a) + t\n",
      "-a**2*exp(t/a) + t**2/2\n"
     ]
    }
   ],
   "source": [
    "# time-reversed exp_decay stepping function\n",
    "a = Symbol('a',real=True)\n",
    "s = 1 - exp(t / a)\n",
    "t0 = solveset(Eq(s, 0.5), t, domain=S.Reals).args[0]\n",
    "\n",
    "# s = 1 - exp(-(t-t0) / a)\n",
    "# ds = diff(s, t)\n",
    "# C = log(0.5)\n",
    "# print(\"t0 offset\", t0)\n",
    "# print(ds)\n",
    "# print(ds.subs(t, C * a))\n",
    "\n",
    "print(s)\n",
    "print(s.integrate(t))\n",
    "print(s.integrate(t).integrate(t))\n",
    "# print('default a', solveset(Eq(diff(1 - exp(-a*t)), 0), t, domain=S.Reals))"
   ]
  },
  {
   "cell_type": "code",
   "execution_count": 5,
   "metadata": {},
   "outputs": [
    {
     "name": "stdout",
     "output_type": "stream",
     "text": [
      "pi*cos(pi*t/a)/(2*a)\n",
      "1/2\n",
      "pi/(2*a)\n"
     ]
    },
    {
     "data": {
      "text/latex": [
       "$\\displaystyle \\frac{x_{1} \\left(- \\frac{a^{2} \\sin{\\left(\\frac{\\pi \\left(t - t_{0}\\right)}{a} \\right)}}{\\pi^{2}} + \\frac{t^{2}}{2}\\right)}{2}$"
      ],
      "text/plain": [
       "x1*(-a**2*sin(pi*(t - t0)/a)/pi**2 + t**2/2)/2"
      ]
     },
     "execution_count": 5,
     "metadata": {},
     "output_type": "execute_result"
    }
   ],
   "source": [
    "# raised cosine stepping function\n",
    "s = (1 + sin(pi * t / a)) / 2\n",
    "ds = diff(s, t)\n",
    "print(ds)\n",
    "print(s.subs(t, 0))\n",
    "print(ds.subs(t, 0))\n",
    "solveset(Eq(ds.subs(t, 0), 1), a, domain=S.Reals)\n",
    "\n",
    "t0 = Symbol('t0',real=True)\n",
    "x1 = Symbol('x1',real=True)\n",
    "s = x1/2*(1 + sin(pi * (t-t0) / a))\n",
    "s.integrate(t).integrate(t)"
   ]
  },
  {
   "cell_type": "code",
   "execution_count": 6,
   "metadata": {},
   "outputs": [
    {
     "name": "stdout",
     "output_type": "stream",
     "text": [
      "t0 offset {0}\n",
      "1/(4*a)\n",
      "exp(-t/a)/(a*(1 + exp(-t/a))**2)\n",
      "a*log(1 + exp(-t/a)) + t\n",
      "-exp(-t/a)/(a**2*(1 + exp(-t/a))**2) + 2*exp(-2*t/a)/(a**2*(1 + exp(-t/a))**3)\n"
     ]
    }
   ],
   "source": [
    "# logistic stepping function\n",
    "s = 1 / (1 + exp(-t / a))\n",
    "ds = diff(s, t)\n",
    "t0 = solveset(Eq(s, 0.5), t, domain=S.Reals)\n",
    "print(\"t0 offset\", t0)\n",
    "print(ds.subs(t, 0))\n",
    "print(ds)\n",
    "print(integrate(s,t))\n",
    "print(ds.diff(t))\n",
    "\n",
    "# print('default a', solveset(Eq(diff(1 - exp(-a*t)), 0), t, domain=S.Reals))"
   ]
  },
  {
   "cell_type": "code",
   "execution_count": 7,
   "metadata": {},
   "outputs": [
    {
     "name": "stdout",
     "output_type": "stream",
     "text": [
      "exp(-t**2/a**2)/(sqrt(pi)*a)\n",
      "a*exp(-t**2/a**2)/(2*sqrt(pi)) + t*erf(t/a)/2 + t/2\n"
     ]
    }
   ],
   "source": [
    "s = (1 + erf(t / a)) / 2\n",
    "ds = diff(s, t)\n",
    "print(ds)\n",
    "print(integrate(s,t))\n"
   ]
  },
  {
   "cell_type": "code",
   "execution_count": 8,
   "metadata": {},
   "outputs": [
    {
     "name": "stdout",
     "output_type": "stream",
     "text": [
      "1/(pi*a*(1 + t**2/a**2))\n",
      "0.5*t + (-a*log(a**2 + t**2)/2 + t*atan(t/a))/pi\n"
     ]
    }
   ],
   "source": [
    "s = 0.5 + atan(t / a) / pi\n",
    "ds = diff(s, t)\n",
    "print(ds)\n",
    "print(integrate(s,t))\n"
   ]
  },
  {
   "cell_type": "code",
   "execution_count": 9,
   "metadata": {},
   "outputs": [
    {
     "name": "stdout",
     "output_type": "stream",
     "text": [
      "(1 - tanh(t/a)**2)/(2*a)\n",
      "-a*log(tanh(t/a) + 1)/2 + t\n"
     ]
    }
   ],
   "source": [
    "s = (1 + tanh(t / a)) / 2\n",
    "ds = diff(s, t)\n",
    "print(ds)\n",
    "print(integrate(s, t))"
   ]
  },
  {
   "cell_type": "code",
   "execution_count": 10,
   "metadata": {},
   "outputs": [
    {
     "data": {
      "text/latex": [
       "$\\displaystyle \\int \\frac{\\sin{\\left(\\phi_{M}{\\left(t \\right)} \\right)}}{\\frac{d}{d t} \\phi_{M}{\\left(t \\right)}}\\, dt$"
      ],
      "text/plain": [
       "Integral(sin(phi_M(t))/Derivative(phi_M(t), t), t)"
      ]
     },
     "execution_count": 10,
     "metadata": {},
     "output_type": "execute_result"
    }
   ],
   "source": [
    "phi_o = Function('omega_o',real=True,positive=True)(t)\n",
    "omega_o = phi_o.diff(t)\n",
    "epsilon = Function('epsilon',real=True)(t) # extent\n",
    "phi_M = Function('phi_M',real=True)(t)\n",
    "B0,B1 = symbols('B0,B1',real=True)\n",
    "B = B0 + B1*t\n",
    "omega_M = phi_M.diff(t)#Symbol('omega_M',real=True,positive=True)\n",
    "\n",
    "(sin(phi_M)/omega_M).integrate()"
   ]
  },
  {
   "cell_type": "code",
   "execution_count": 11,
   "metadata": {},
   "outputs": [
    {
     "name": "stdout",
     "output_type": "stream",
     "text": [
      "t**4*x2*y2 + t**3*(x1*y2 + x2*y1) + t**2*(x0*y2 + x1*y1 + x2*y0) + t*(x0*y1 + x1*y0) + x0*y0\n",
      "Integral(cos(t**4*x2*y2 + t**3*(x1*y2 + x2*y1) + t**2*(x0*y2 + x1*y1 + x2*y0) + t*(x0*y1 + x1*y0) + x0*y0), t)\n"
     ]
    }
   ],
   "source": [
    "x0,x1,x2 = symbols('x:3',real=True)\n",
    "y0,y1,y2 = symbols('y:3',real=True)\n",
    "x = x0 + x1*t + x2*t**2\n",
    "y = y0 + y1*t + y2*t**2\n",
    "\n",
    "print(collect(expand(x*y),t))\n",
    "f = cos(collect(expand(x*y),t))\n",
    "print(integrate(f,t))"
   ]
  },
  {
   "cell_type": "code",
   "execution_count": 12,
   "metadata": {},
   "outputs": [
    {
     "name": "stdout",
     "output_type": "stream",
     "text": [
      "a*x**3/3 + b*x**2/2 + c*x\n"
     ]
    },
    {
     "data": {
      "text/latex": [
       "$\\displaystyle \\frac{a x^{3}}{3} - \\frac{a x_{0}^{3}}{3} + \\frac{b x^{2}}{2} - \\frac{b x_{0}^{2}}{2} + c x - c x_{0}$"
      ],
      "text/plain": [
       "a*x**3/3 - a*x0**3/3 + b*x**2/2 - b*x0**2/2 + c*x - c*x0"
      ]
     },
     "execution_count": 12,
     "metadata": {},
     "output_type": "execute_result"
    }
   ],
   "source": [
    "a,b,c,x,x0 = symbols('a,b,c,x,x0',real=True)\n",
    "f = a*x**2 + b*x + c\n",
    "print(f.integrate(x))\n",
    "\n",
    "collect(expand((a*x0**2 + b*x0 + c)*(x-x0) + (2*a*x0+b)/2*(x-x0)**2 + a/3 * (x-x0)**3),x)"
   ]
  }
 ],
 "metadata": {
  "kernelspec": {
   "display_name": ".venv",
   "language": "python",
   "name": "python3"
  },
  "language_info": {
   "codemirror_mode": {
    "name": "ipython",
    "version": 3
   },
   "file_extension": ".py",
   "mimetype": "text/x-python",
   "name": "python",
   "nbconvert_exporter": "python",
   "pygments_lexer": "ipython3",
   "version": "3.11.4"
  }
 },
 "nbformat": 4,
 "nbformat_minor": 2
}
