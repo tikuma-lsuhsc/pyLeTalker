{
 "cells": [
  {
   "cell_type": "markdown",
   "id": "4b94f41c",
   "metadata": {},
   "source": [
    "# Animating kinematic vocal folds\n",
    "\n",
    "The `lt.KinematicVocalFolds` class is furnished with the method `draw3d()` to make\n",
    "3D visualization of the vocal-fold model easier. This example demonstrates how to\n",
    "accomplish the 3D animation with [matplotlib.animation.FuncAnimation](https://matplotlib.org/stable/api/_as_gen/matplotlib.animation.FuncAnimation.html)\n",
    "in Jupyter Notebook."
   ]
  },
  {
   "cell_type": "markdown",
   "id": "4ffccf71",
   "metadata": {},
   "source": [
    "First we load the necessary libraries"
   ]
  },
  {
   "cell_type": "code",
   "execution_count": null,
   "id": "e079f0d2",
   "metadata": {},
   "outputs": [],
   "source": [
    "%matplotlib agg\n",
    "\n",
    "from matplotlib import pyplot as plt\n",
    "from matplotlib.animation import FuncAnimation\n",
    "from IPython.display import HTML\n",
    "\n",
    "import letalker as lt"
   ]
  },
  {
   "cell_type": "markdown",
   "id": "d568dbc8",
   "metadata": {},
   "source": [
    "## Symmetric Periodic Vibration"
   ]
  },
  {
   "cell_type": "markdown",
   "id": "2c603c8d",
   "metadata": {},
   "source": [
    "The key to the animation is controlling the number of animation frames per glottal \n",
    "cycle. For a basic demonstration of a periodic vibration, we only need one cycle, \n",
    "and let the animation engine to repeat it at much slower speed than the real time,\n",
    "(similar to playing back highspeed videoendoscopy video at much slower rate).\n",
    "\n",
    "For the first example, let's use the default symmetric vocal folds at $f_o=$ 100 Hz."
   ]
  },
  {
   "cell_type": "code",
   "execution_count": null,
   "id": "068affc3",
   "metadata": {},
   "outputs": [],
   "source": [
    "fo = 100\n",
    "vf = lt.KinematicVocalFolds(fo)"
   ]
  },
  {
   "cell_type": "markdown",
   "id": "a7c1c7d0",
   "metadata": {},
   "source": [
    "Now, we need to set up the simulation rate and duration.\n",
    "\n",
    "We only need one glottic cycle, which lasts in 10 ms. With the default sampling \n",
    "rate of 44.1 kHz, we would end up with 441 frames per cycle, which is too much \n",
    "detail necessary. \n",
    "\n",
    "Instead, let's aim for 30 frames per cycle by changing the sampling rate, then\n",
    "run the model for 1 cycle or 10 ms. Also, set the animation to play back at the \n",
    "rate of 1 cycle per second."
   ]
  },
  {
   "cell_type": "code",
   "execution_count": null,
   "id": "bb21db6e",
   "metadata": {},
   "outputs": [],
   "source": [
    "fpc = 30  # target frames per cycle\n",
    "fs = fpc * fo  # new sampling rate to meet fpc target for the specified fo\n",
    "\n",
    "# apply the new sampling rate to pyLeTalker\n",
    "lt.core.set_sampling_rate(fs)\n",
    "\n",
    "print(f\"new sampling rate = {lt.fs} Hz\")"
   ]
  },
  {
   "cell_type": "markdown",
   "id": "223c713d",
   "metadata": {},
   "source": [
    "Now, the 3D model at each sample instance is drawn on Matplotlib's 3D axes, and the animation is iteratively recorded by `FuncAnimation` as follows"
   ]
  },
  {
   "cell_type": "code",
   "execution_count": null,
   "id": "51a061e5",
   "metadata": {},
   "outputs": [],
   "source": [
    "\n",
    "fig = plt.figure()\n",
    "ax = fig.add_subplot(projection=\"3d\")\n",
    "\n",
    "ax.view_init(22.5, -70) # good perspective view\n",
    "# ax.view_init(90, -90)  # top view\n",
    "ax.set_proj_type(\"ortho\")\n",
    "ax.set_aspect(\"equal\")\n",
    "\n",
    "def animate(i):\n",
    "    vf.draw3d(i, axes=ax)\n",
    "    ax.set_title(f'$t={i/fs:0.3f}$')\n",
    "\n",
    "ani = FuncAnimation(fig, animate, frames=fpc, interval=1 / fpc)"
   ]
  },
  {
   "cell_type": "markdown",
   "id": "3f9648c0",
   "metadata": {},
   "source": [
    "Finally, we can show the animation in Jupyter Notebook with the following command:"
   ]
  },
  {
   "cell_type": "code",
   "execution_count": null,
   "id": "73a93aa1",
   "metadata": {},
   "outputs": [],
   "source": [
    "HTML(ani.to_jshtml(fpc))"
   ]
  },
  {
   "cell_type": "markdown",
   "id": "236ccfaf",
   "metadata": {},
   "source": [
    "## Entrained left-right biphonation\n",
    "\n",
    "How about a case of 2:3 biphonation? Keeping one vocal fold to vibrate at 100 Hz, \n",
    "the other vocal fold would then vibrate at 150 Hz. These yield the true/overall fundamental \n",
    "frequency of 50 Hz, 100-Hz vocal fold vibrates twice while 150-Hz one vibrates \n",
    "thrice. Let the 150-Hz vocal fold to be animated with the same 30 frames/cycle recording rate\n",
    "and playback at 1 second/cycle speed. This needs the animation to be 3-cycles \n",
    "long or 90 frames, and we need the sampling rate of 4.5 kHz (150 Hz $\\times$ 3)."
   ]
  },
  {
   "cell_type": "code",
   "execution_count": null,
   "id": "35fda1cf",
   "metadata": {},
   "outputs": [],
   "source": [
    "fo1 = 100\n",
    "fo2 = 150\n",
    "vf = lt.KinematicVocalFolds([fo1, fo2])\n",
    "\n",
    "fs = fpc * fo2  # new sampling rate to meet fpc target for the specified fo\n",
    "\n",
    "# apply the new sampling rate to pyLeTalker\n",
    "lt.core.set_sampling_rate(fs)\n",
    "\n",
    "print(f\"new sampling rate = {lt.fs} Hz\")\n",
    "\n",
    "fig = plt.figure()\n",
    "ax = fig.add_subplot(projection=\"3d\")\n",
    "\n",
    "ax.view_init(22.5, -70)  # good perspective view\n",
    "# ax.view_init(90, -90)  # top view\n",
    "ax.set_proj_type(\"ortho\")\n",
    "ax.set_aspect(\"equal\")\n",
    "\n",
    "ani = FuncAnimation(fig, animate, frames=3*fpc, interval=1 / fpc)\n",
    "\n",
    "HTML(ani.to_jshtml(fpc))"
   ]
  },
  {
   "cell_type": "markdown",
   "id": "fe2184db",
   "metadata": {},
   "source": [
    "## Stroboscopic animation\n",
    "\n",
    "If $f_o$ varies, then the vibration is no longer truly periodic. Then, the above method\n",
    "no longer applies. pyLeTalker is equipped with `lt.utils.strobe_timing()` to \n",
    "mimic the videostroboscopy, which tracks the fundamental frequency of the voice \n",
    "and precisely time the shutter intervals to make the captured vibration to \n",
    "appear periodic in video. \n",
    "\n",
    "`lt.utils.strobe_timing()` takes the output sampling rate (video framerate), \n",
    "fundamental frequency, and duration of the animation, and the strobe rate `fstrobe`. \n",
    "It then produces the simulation sample indices to show `fstrobe` cycles per second.\n",
    "\n",
    "Below, we synthesize symmetric vocal folds with time-varying $f_o$ using `lt.Interpolator`\n",
    "to design the $f_o$ contour, varying between 85 to 120 Hz over 3 seconds. Despite\n",
    "simulating at the default 44.1 kHz, the produced animation shows smooth vibration."
   ]
  },
  {
   "cell_type": "code",
   "execution_count": null,
   "id": "ad01b7b2",
   "metadata": {},
   "outputs": [],
   "source": [
    "lt.core.set_sampling_rate(None) # revert to the default\n",
    "\n",
    "# 3 second synthesis\n",
    "T = 3\n",
    "\n",
    "# time-varying fo\n",
    "fo = lt.Interpolator([0, 0.9, 1.5, 2.4, 3.0], [100, 90, 85, 110, 120])\n",
    "\n",
    "# define the model\n",
    "vf = lt.KinematicVocalFolds(fo)\n",
    "\n",
    "fr = 30  # video framerate\n",
    "\n",
    "# select the sampling instances for video (display 1 cycles/second)\n",
    "nstrobe = lt.utils.strobe_timing(fr, fo, T, fstrobe=1)\n",
    "\n",
    "fig = plt.figure()\n",
    "ax = fig.add_subplot(projection=\"3d\")\n",
    "\n",
    "ax.view_init(22.5, -70) # good perspective view\n",
    "# ax.view_init(90, -90)  # top view\n",
    "ax.set_proj_type(\"ortho\")\n",
    "ax.set_aspect(\"equal\")\n",
    "\n",
    "def animate(i):\n",
    "    vf.draw3d(nstrobe[i], axes=ax)\n",
    "    ax.set_title(f'$t={nstrobe[i]/lt.fs:0.3f}$')\n",
    "\n",
    "ani = FuncAnimation(fig, animate, frames=len(nstrobe), interval=1 / fr)\n",
    "\n",
    "HTML(ani.to_jshtml(fr))\n"
   ]
  }
 ],
 "metadata": {
  "kernelspec": {
   "display_name": ".venv",
   "language": "python",
   "name": "python3"
  },
  "language_info": {
   "codemirror_mode": {
    "name": "ipython",
    "version": 3
   },
   "file_extension": ".py",
   "mimetype": "text/x-python",
   "name": "python",
   "nbconvert_exporter": "python",
   "pygments_lexer": "ipython3",
   "version": "3.13.2"
  }
 },
 "nbformat": 4,
 "nbformat_minor": 5
}
