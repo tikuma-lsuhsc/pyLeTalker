{
 "cells": [
  {
   "cell_type": "code",
   "execution_count": null,
   "metadata": {},
   "outputs": [],
   "source": [
    "from matplotlib import pyplot as plt\n",
    "import numpy as np"
   ]
  },
  {
   "cell_type": "markdown",
   "metadata": {},
   "source": [
    "# `TaperMixin` - Controlling onset and offset of functions\n",
    "\n",
    "This mixin is included in every **non**-`AnalyticFunctionGenerator` classes in `letalker` to apply smooth on/off patterns both easily and flexibly.\n"
   ]
  },
  {
   "cell_type": "markdown",
   "metadata": {},
   "source": [
    "In this demo, we employ `ConstantGenerator` class to illustrate the various effect of the `TaperMixin`.\n"
   ]
  },
  {
   "cell_type": "code",
   "execution_count": null,
   "metadata": {},
   "outputs": [],
   "source": [
    "import numpy as np\n",
    "from letalker.function_generators import Constant\n",
    "from letalker.constants import fs"
   ]
  },
  {
   "cell_type": "markdown",
   "metadata": {},
   "source": [
    "The `TaperMixin` introduces 4 keyword arguments to the constructor of the supported classes:\n",
    "\n",
    "- `transition_time: float | Sequence[float] | None = None`\n",
    "- `transition_type: StepTypeLiteral | Sequence[StepTypeLiteral] = \"raised_cos\"`\n",
    "- `transition_time_constant: float | Sequence[float] = 0.002`\n",
    "- `transition_initial_on: bool = False`\n",
    "\n",
    "Let's examine the effect of each keyword.\n"
   ]
  },
  {
   "cell_type": "markdown",
   "metadata": {},
   "source": [
    "## `transition_time` - Time in seconds at when the transition occurs\n",
    "\n",
    "By default the taper effect is turned off (i.e., `transition_time = None`). By assigning a time value to this argument turns on the waveform at this time.\n"
   ]
  },
  {
   "cell_type": "code",
   "execution_count": null,
   "metadata": {},
   "outputs": [],
   "source": [
    "n = fs  # 1 second demo\n",
    "t = np.arange(n) / fs\n",
    "\n",
    "cgen0 = Constant(1)\n",
    "cgen1 = Constant(1, transition_time=0.25)\n",
    "cgen2 = Constant(1, transition_time=0.5)\n",
    "cgen3 = Constant(1, transition_time=0.75)\n",
    "\n",
    "fig, axes = plt.subplots(4, 1, sharex=True, sharey=True)\n",
    "axes[0].plot(t, cgen0(n, force_time_axis='tile_data'), label=\"transition_time=None\")\n",
    "axes[0].legend()\n",
    "axes[1].plot(t, cgen1(n), label=\"transition_time=0.25\")\n",
    "axes[1].legend()\n",
    "axes[2].plot(t, cgen2(n), label=\"transition_time=0.5\")\n",
    "axes[2].legend()\n",
    "axes[3].plot(t, cgen3(n), label=\"transition_time=0.75\")\n",
    "axes[3].legend()\n",
    "axes[3].set_xlabel(\"time (s)\")"
   ]
  },
  {
   "cell_type": "markdown",
   "metadata": {},
   "source": [
    "A list of time points could also be assigned to `transition_time` keyword to generate an on/off sequence.\n"
   ]
  },
  {
   "cell_type": "code",
   "execution_count": null,
   "metadata": {},
   "outputs": [],
   "source": [
    "cgen = Constant(1, transition_time=[0.25, 0.5, 0.75])\n",
    "\n",
    "plt.plot(t, cgen(n))\n",
    "plt.xlabel(\"time (s)\")"
   ]
  },
  {
   "cell_type": "markdown",
   "metadata": {},
   "source": [
    "## `transition_time_constant` - Sets the transition duration\n",
    "\n",
    "This parameter indicates the duration for a linear transition. Other transitions (excluding step) are slower (see below).  Default is `0.002` s, matching LeTalker's respiratory pressure (`PL`) transition.\n"
   ]
  },
  {
   "cell_type": "code",
   "execution_count": null,
   "metadata": {},
   "outputs": [],
   "source": [
    "for tc in [0.25, 0.5, 0.75]:\n",
    "    cgen = Constant(1, transition_time=0, transition_time_constant=tc)\n",
    "    plt.plot(t - 0.5, cgen(n, -n // 2), label=f\"time_constant={tc}\")\n",
    "plt.legend()\n",
    "plt.grid()"
   ]
  },
  {
   "cell_type": "markdown",
   "metadata": {},
   "source": [
    "## `transition_type` - Sets the transition waveform\n",
    "\n",
    "Default is the raised cosine (`\"raised_cos\"`), and you may pick one of 6 possibilities:\n",
    "\n",
    "| value | description |\n",
    "| ----- | ----------- |\n",
    "|`\"step\"` | instantaneous transition|\n",
    "|`\"linear\"` | linear transition |\n",
    "|`\"raised_cos\"` | raised cosine transition|\n",
    "|`\"exp_decay\"` | transition of a first-order linear system |\n",
    "|`\"logistic\"` | logistic function transition |\n",
    "|`\"atan\"` | arctangent transition|\n",
    "|`\"tanh\"` | hyperbolic tangent transition|\n",
    "|`\"erf\"`| error function transition |\n"
   ]
  },
  {
   "cell_type": "code",
   "execution_count": null,
   "metadata": {},
   "outputs": [],
   "source": [
    "t = np.arange(0, n) / fs\n",
    "\n",
    "for ttype in [\n",
    "    \"step\",\n",
    "    \"linear\",\n",
    "    \"raised_cos\",\n",
    "    \"exp_decay\",\n",
    "    \"logistic\",\n",
    "    \"atan\",\n",
    "    \"tanh\",\n",
    "    \"erf\",\n",
    "]:\n",
    "    cgen = Constant(\n",
    "        1, transition_type=ttype, transition_time=0.5, transition_time_constant=0.2\n",
    "    )\n",
    "    plt.plot(t, cgen(n), label=ttype)\n",
    "plt.legend(ncols=2)\n",
    "plt.title(\"available transition types\")\n",
    "plt.xlabel(\"time (s)\")\n",
    "plt.grid()"
   ]
  },
  {
   "cell_type": "markdown",
   "metadata": {},
   "source": [
    "## `transition_initial_on`\n",
    "\n",
    "Setting `transition_initial_on = True` makes the first transition to turn off the signal."
   ]
  },
  {
   "cell_type": "code",
   "execution_count": null,
   "metadata": {},
   "outputs": [],
   "source": [
    "cgen0 = Constant(1, transition_time=[0.25, 0.5, 0.75], transition_initial_on=False)\n",
    "cgen1 = Constant(1, transition_time=[0.25, 0.5, 0.75], transition_initial_on=True)\n",
    "\n",
    "fig, axes = plt.subplots(2, 1, sharex=True, sharey=True)\n",
    "axes[0].plot(cgen0.ts(n), cgen0(n), label=\"initial_on=False (default)\")\n",
    "axes[0].set_title(\"transition_initial_on=False (default)\")\n",
    "axes[1].plot(cgen0.ts(n), cgen1(n), label=\"initial_on=True\")\n",
    "axes[1].set_title(\"transition_initial_on=True\")\n",
    "axes[1].set_xlabel(\"time (s)\")"
   ]
  }
 ],
 "metadata": {
  "kernelspec": {
   "display_name": ".venv",
   "language": "python",
   "name": "python3"
  },
  "language_info": {
   "codemirror_mode": {
    "name": "ipython",
    "version": 3
   },
   "file_extension": ".py",
   "mimetype": "text/x-python",
   "name": "python",
   "nbconvert_exporter": "python",
   "pygments_lexer": "ipython3",
   "version": "3.13.3"
  }
 },
 "nbformat": 4,
 "nbformat_minor": 2
}
