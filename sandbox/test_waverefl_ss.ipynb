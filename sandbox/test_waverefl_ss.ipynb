{
 "cells": [
  {
   "cell_type": "code",
   "execution_count": 1,
   "metadata": {},
   "outputs": [],
   "source": [
    "import numpy as np\n",
    "from scipy.signal import butter, filtfilt\n",
    "from scipy.io import loadmat\n",
    "from matplotlib import pyplot as plt\n",
    "from pprint import pprint\n",
    "\n",
    "import os\n",
    "\n",
    "rootdir = \"..\" if os.getcwd().endswith(\"tests\") else \".\"\n",
    "\n",
    "from oct2py import octave\n",
    "\n",
    "octave.addpath(os.path.join(rootdir, \"LeTalker1.22\"))\n",
    "octave.eval(\"warning ('off', 'Octave:data-file-in-path')\")"
   ]
  },
  {
   "cell_type": "code",
   "execution_count": 2,
   "metadata": {},
   "outputs": [
    {
     "name": "stdout",
     "output_type": "stream",
     "text": [
      "dict_keys(['__header__', '__version__', '__globals__', 'aa', 'ii', 'uu', 'ae', 'ih', 'eh', 'ah', 'aw', 'uh', 'oo', 'uumod', 'areas', 'vow_order', 'note', 'trach'])\n"
     ]
    }
   ],
   "source": [
    "vt_data = loadmat(\n",
    "    os.path.join(rootdir, \"src\", \"simvoice\", \"data\", \"bs_origvowels.mat\")\n",
    ") | loadmat(os.path.join(rootdir, \"src\", \"simvoice\", \"data\", \"LeTalkerTrachea.mat\"))\n",
    "pprint(vt_data.keys())"
   ]
  },
  {
   "cell_type": "code",
   "execution_count": 3,
   "metadata": {},
   "outputs": [
    {
     "name": "stdout",
     "output_type": "stream",
     "text": [
      "0.9070294784580499\n"
     ]
    }
   ],
   "source": [
    "areas = vt_data[\"aa\"][0]\n",
    "atten = 0.005\n",
    "\n",
    "# areas = areas[:6]\n",
    "\n",
    "K = len(areas)\n",
    "M = K // 2  # number of states for forward and backward pressures\n",
    "\n",
    "if M * 2 != K:\n",
    "    raise ValueError(\"tube must have an even number of crosssectional areas.\")\n",
    "\n",
    "f_even = np.zeros(M)  # [F2, F4, ..., FK]\n",
    "b_odd = np.zeros(M)  # [B1, B3, ..., BK-1]\n",
    "\n",
    "# f_odd # [F3, F5, ..., FK-1]\n",
    "# b_even # [B2, B4, ..., BK-2]\n",
    "\n",
    "a = areas\n",
    "alpha = 1 - atten / (areas) ** 0.5\n",
    "r = (a[:-1] - a[1:]) / (a[:-1] + a[1:])\n",
    "rp1 = 1 + r\n",
    "rm1 = 1 - r\n",
    "\n",
    "M -= 1\n",
    "\n",
    "Rodd = np.zeros((2 * M, 2 * M))\n",
    "Rodd[1:M, : M - 1] = np.diag(rp1[2:-2:2] * alpha[2:-2:2])\n",
    "Rodd[:M, M:] = np.diag(-r[:-1:2] * alpha[1:-2:2])\n",
    "Rodd[M:, :M] = np.diag(r[2::2] * alpha[2::2])\n",
    "Rodd[M:-1, M + 1 :] = np.diag(rm1[2:-2:2] * alpha[3:-1:2])\n",
    "Reven = np.zeros((2 * M, 2 * M))\n",
    "Reven[:M, :M] = np.diag(rp1[1:-1:2] * alpha[1:-1:2])\n",
    "Reven[:M, M:] = np.diag(-r[1:-1:2] * alpha[2::2])\n",
    "Reven[M:, :M] = np.diag(r[1:-1:2] * alpha[1:-1:2])\n",
    "Reven[M:, M:] = np.diag(rm1[1:-1:2] * alpha[2::2])\n",
    "A = Rodd @ Reven\n",
    "\n",
    "print((A==0).mean())\n",
    "\n",
    "B = np.zeros((K, 2))\n",
    "B[0, 0] = rp1[0] * alpha[0]\n",
    "B[M, 0] = r[0] * alpha[0]\n",
    "B[M - 1, 1] = -r[-1] * alpha[-1]\n",
    "B[-1, 1] = rm1[-1] * alpha[-1]\n",
    "\n",
    "C = np.zeros((2, 2 * M))\n",
    "C[0, M - 1] = rp1[-1] * alpha[-2]\n",
    "C[1, M] = rm1[0] * alpha[1]\n",
    "\n",
    "D = np.zeros((2, 2))\n",
    "D[0, 1] = -r[-1] * alpha[-1]\n",
    "D[1, 0] = r[0] * alpha[0]"
   ]
  }
 ],
 "metadata": {
  "kernelspec": {
   "display_name": ".venv",
   "language": "python",
   "name": "python3"
  },
  "language_info": {
   "codemirror_mode": {
    "name": "ipython",
    "version": 3
   },
   "file_extension": ".py",
   "mimetype": "text/x-python",
   "name": "python",
   "nbconvert_exporter": "python",
   "pygments_lexer": "ipython3",
   "version": "3.11.4"
  }
 },
 "nbformat": 4,
 "nbformat_minor": 2
}
